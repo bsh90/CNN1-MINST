{
 "cells": [
  {
   "cell_type": "markdown",
   "metadata": {},
   "source": [
    "# CNN model with MNIST dataset"
   ]
  },
  {
   "cell_type": "code",
   "execution_count": 1,
   "metadata": {},
   "outputs": [],
   "source": [
    "#@presented by: Bahareh Shidrang\n",
    "\n",
    "import tensorflow as tf\n",
    "from tensorflow.keras.datasets import mnist\n",
    "from tensorflow.image import grayscale_to_rgb\n",
    "from tensorflow.keras.utils import to_categorical\n",
    "from tensorflow.dtypes import cast\n",
    "\n",
    "from tensorflow.keras import Sequential\n",
    "from tensorflow.keras.layers import Conv2D, MaxPooling2D, Flatten, Dense\n",
    "from tensorflow.keras.optimizers import SGD, Adam\n",
    "\n",
    "import matplotlib.pyplot as plt"
   ]
  },
  {
   "cell_type": "code",
   "execution_count": 2,
   "metadata": {},
   "outputs": [],
   "source": [
    "def dataPrepration(image0, label0):\n",
    "    \"\"\"\n",
    "    Images: reshape: changing the shape of an array and in this case Convert \n",
    "    the following 1-D array into a 3-D array. so instead of (x, 28, 28), \n",
    "    we will have (x, 28, 28, 1)\n",
    "    \"\"\"\n",
    "    image_grayscale = image0.reshape(image0.shape[0], 28, 28, 1)\n",
    "    \"\"\"\n",
    "    Images: rgb converting of original grayscale images, in other words adding \n",
    "    rgb layers so instead of (x, 28, 28, 1), we will have (x, 28, 28, 3)\n",
    "    \"\"\"\n",
    "    image_rgb = grayscale_to_rgb(tf.convert_to_tensor(image_grayscale))\n",
    "    \"\"\"\n",
    "    # Labels: to_categorically: Converts a class vector (integers) to binary \n",
    "    class matri_image. so instead of 9 we would have [0 0 0 0 0 0 0 0 0 1]\n",
    "    \"\"\"\n",
    "    label = to_categorical(label0)\n",
    "    # Images: convert from integers to floats\n",
    "    image_rgb_float = cast(image_rgb, tf.float32)\n",
    "    # Images: normalize to range 0-1\n",
    "    image_rgb_norm = image_rgb_float / 255.0\n",
    "    return image_rgb_norm, label\n",
    "\n",
    "#Load Data and prepration\n",
    "def dataLoad():\n",
    "    (train_image0, train_label0), (test_image0, test_label0) = mnist.load_data()\n",
    "    train_image_norm, train_label = dataPrepration(train_image0, train_label0)\n",
    "    test_image_norm, test_label = dataPrepration(test_image0, test_label0)\n",
    "    return train_image_norm, train_label, test_image_norm, test_label\n",
    "\n"
   ]
  },
  {
   "cell_type": "code",
   "execution_count": 13,
   "metadata": {},
   "outputs": [],
   "source": [
    "def cnn_model():\n",
    "    \n",
    "    \"\"\"\n",
    "    3 way to make Keras models:\n",
    "    1.The Sequential model makes a simple list of layers,but is limited to \n",
    "    single-input,single-output stacks of layers.\n",
    "    2.The Functional API supports arbitrary model architectures. This is the \n",
    "    Keras \"industry strength\" model.\n",
    "    3.Model subclassing for complex, out-of-the-box research use cases.\n",
    "    \"\"\"\n",
    "    \n",
    "\n",
    "    model = Sequential()\n",
    "    \n",
    "    \"\"\"\n",
    "    2D convolution layer : 32 as number of filters, (3,3) as size of filters \n",
    "    or height and width of the 2D convolution window. \n",
    "    f(Neuron output)=final-output Activation function as Rectified Linear Unit \n",
    "    (ReLU) as if x<0: f(x)=0 elif x>=0: f(x)=x \n",
    "    \"\"\"\n",
    "    \n",
    "    model.add(Conv2D(32, (3, 3), activation='relu', input_shape=(28, 28, 3)))\n",
    "    #choosing max from a pool windows size of (2,2)\n",
    "    model.add(MaxPooling2D((2, 2)))\n",
    "    #removing all dimension and making it into one dimension array\n",
    "    model.add(Flatten())\n",
    "    # densely-connected NN layer/fully connected layers\n",
    "    model.add(Dense(100, activation='relu'))\n",
    "    #softmax as f(x_i)=e^(x_i)/sum(e^(x_j)), gives out probabilities\n",
    "    model.add(Dense(10, activation='softmax'))\n",
    "    \n",
    "    \"\"\"\n",
    "    compile model, \n",
    "    Optimazations: Gradient descent optimization algorithms, Adadelta, Adagrad, \n",
    "    Adam, AdaMax, Nadam, RMSprop.\n",
    "    loss: loss functions is to compute the quantity that a model should seek to \n",
    "    minimize during training.\n",
    "    categorical_crossentropy: Computes the crossentropy loss between the labels \n",
    "    and predictions. Use this crossentropy loss function when there are two or \n",
    "    more label classes. \n",
    "    We expect labels to be provided in a one_hot representation. There should \n",
    "    be classes floating point values per feature.\n",
    "    choosing metric of accuracy: how often predictions equals labels\n",
    "    \"\"\"\n",
    "    \n",
    "    model.compile(optimizer=Adam(), loss='categorical_crossentropy', metrics=['accuracy'])\n",
    "    return model"
   ]
  },
  {
   "cell_type": "code",
   "execution_count": 14,
   "metadata": {},
   "outputs": [],
   "source": [
    "def evaluate_model(train_image, train_label, test_image, test_label):\n",
    "    # define model\n",
    "    model = cnn_model()\n",
    "    # train the model. epochs = iterations on a dataset. \n",
    "    #Verbosity mode. 0 = silent, 1 = progress bar, 2 = one line per epoch\n",
    "    log = model.fit(\n",
    "                train_image, train_label, epochs=10, \n",
    "                validation_data=(test_image, test_label), verbose=2)\n",
    "    # evaluate model. \n",
    "    score = model.evaluate(test_image, test_label, verbose=2)    \n",
    "    return score, log"
   ]
  },
  {
   "cell_type": "code",
   "execution_count": 15,
   "metadata": {},
   "outputs": [],
   "source": [
    "def plot_log(log):\n",
    "    fig, (acc, loss)= plt.subplots(1,2)\n",
    "    fig.set_figheight(5)\n",
    "    fig.set_figwidth(15)\n",
    "\n",
    "    # plot accuracy\n",
    "    acc.set_title('Model Accuracy')\n",
    "    acc.plot(log.history['accuracy'])\n",
    "    acc.plot(log.history['val_accuracy'])\n",
    "    acc.set(ylabel='accuracy', xlabel='epoch')\n",
    "    acc.legend(['train', 'test'], loc='lower right')\n",
    "    \n",
    "    # plot loss\n",
    "    loss.set_title('Model Loss')\n",
    "    loss.plot(log.history['loss'])\n",
    "    loss.plot(log.history['val_loss'])\n",
    "    loss.set(ylabel='accuracy', xlabel='epoch')\n",
    "    loss.legend(['train', 'test'], loc='upper right')\n",
    "    \n",
    "    plt.show()"
   ]
  },
  {
   "cell_type": "code",
   "execution_count": 16,
   "metadata": {},
   "outputs": [],
   "source": [
    "def performance(score):\n",
    "    print(\"Test Accuracy is %.3f percentage and test loss is %.3f percentage\" % (score[1]*100, score[0]*100))\n",
    "    #and other data that can be acquired...."
   ]
  },
  {
   "cell_type": "code",
   "execution_count": 17,
   "metadata": {},
   "outputs": [],
   "source": [
    "def run_model_test():\n",
    "    # load dataset\n",
    "    train_image, train_label, test_image, test_label = dataLoad()\n",
    "    # train and evaluate model\n",
    "    score, log = evaluate_model(train_image, train_label, test_image, test_label)\n",
    "    # results\n",
    "    plot_log(log)\n",
    "    performance(score)"
   ]
  },
  {
   "cell_type": "code",
   "execution_count": 18,
   "metadata": {},
   "outputs": [
    {
     "name": "stdout",
     "output_type": "stream",
     "text": [
      "Epoch 1/10\n",
      "1875/1875 - 17s - loss: 0.1353 - accuracy: 0.9596 - val_loss: 0.0580 - val_accuracy: 0.9816\n",
      "Epoch 2/10\n",
      "1875/1875 - 18s - loss: 0.0471 - accuracy: 0.9854 - val_loss: 0.0510 - val_accuracy: 0.9823\n",
      "Epoch 3/10\n",
      "1875/1875 - 18s - loss: 0.0276 - accuracy: 0.9913 - val_loss: 0.0462 - val_accuracy: 0.9855\n",
      "Epoch 4/10\n",
      "1875/1875 - 18s - loss: 0.0189 - accuracy: 0.9938 - val_loss: 0.0403 - val_accuracy: 0.9880\n",
      "Epoch 5/10\n",
      "1875/1875 - 18s - loss: 0.0128 - accuracy: 0.9956 - val_loss: 0.0544 - val_accuracy: 0.9841\n",
      "Epoch 6/10\n",
      "1875/1875 - 18s - loss: 0.0100 - accuracy: 0.9967 - val_loss: 0.0535 - val_accuracy: 0.9864\n",
      "Epoch 7/10\n",
      "1875/1875 - 18s - loss: 0.0082 - accuracy: 0.9971 - val_loss: 0.0563 - val_accuracy: 0.9871\n",
      "Epoch 8/10\n",
      "1875/1875 - 22s - loss: 0.0057 - accuracy: 0.9980 - val_loss: 0.0628 - val_accuracy: 0.9850\n",
      "Epoch 9/10\n",
      "1875/1875 - 22s - loss: 0.0054 - accuracy: 0.9981 - val_loss: 0.0524 - val_accuracy: 0.9864\n",
      "Epoch 10/10\n",
      "1875/1875 - 18s - loss: 0.0054 - accuracy: 0.9979 - val_loss: 0.0655 - val_accuracy: 0.9863\n",
      "313/313 - 1s - loss: 0.0655 - accuracy: 0.9863\n"
     ]
    },
    {
     "data": {
      "image/png": "[encoded data removed]",
      "text/plain": [
       "<Figure size 1080x360 with 2 Axes>"
      ]
     },
     "metadata": {
      "needs_background": "light"
     },
     "output_type": "display_data"
    },
    {
     "name": "stdout",
     "output_type": "stream",
     "text": [
      "Test Accuracy is 98.630 percentage and test loss is 6.550 percentage\n"
     ]
    }
   ],
   "source": [
    "run_model_test()"
   ]
  },
  {
   "cell_type": "code",
   "execution_count": null,
   "metadata": {},
   "outputs": [],
   "source": []
  }
 ],
 "metadata": {
  "kernelspec": {
   "display_name": "Python 3",
   "language": "python",
   "name": "python3"
  },
  "language_info": {
   "codemirror_mode": {
    "name": "ipython",
    "version": 3
   },
   "file_extension": ".py",
   "mimetype": "text/x-python",
   "name": "python",
   "nbconvert_exporter": "python",
   "pygments_lexer": "ipython3",
   "version": "3.8.6"
  }
 },
 "nbformat": 4,
 "nbformat_minor": 4
}
